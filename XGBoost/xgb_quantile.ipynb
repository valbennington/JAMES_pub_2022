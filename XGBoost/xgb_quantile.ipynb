{
 "cells": [
  {
   "cell_type": "markdown",
   "id": "4dd706cf-6cbc-4d61-9950-ef553c72c025",
   "metadata": {},
   "source": [
    "# XGB Quantile Loss"
   ]
  },
  {
   "cell_type": "code",
   "execution_count": 87,
   "id": "ddb159c3-3a17-4945-91fb-3e0098362e57",
   "metadata": {},
   "outputs": [],
   "source": [
    "# Be sure to go to bottom to see functions called\n",
    "# Because second derivative in XGBoost is zero, must add random noise to use quantile loss\n",
    "\n",
    "# Technique from https://towardsdatascience.com/regression-prediction-intervals-with-xgboost-428e0a018b\n",
    "# and\n",
    "# https://colab.research.google.com/drive/1KlRkrLi7JmVpprL94vN96lZU-HyFNkTq?usp=sharing\n"
   ]
  },
  {
   "cell_type": "code",
   "execution_count": 2,
   "id": "7c9804ca-d882-4583-adc9-9e7cbb84517e",
   "metadata": {},
   "outputs": [],
   "source": [
    "#standard\n",
    "import numpy as np\n",
    "np.random.seed(1) #fix seed for notebook\n",
    "import pandas as pd\n",
    "import scipy\n",
    "import os\n",
    "import datetime\n",
    "from pathlib import Path\n",
    "from collections import defaultdict\n",
    "import xarray as xr\n",
    "import numpy.ma as ma\n",
    "%matplotlib inline\n",
    "%config InlineBackend.figure_format = 'jpg'\n",
    "import matplotlib.pyplot as plt\n",
    "import pickle\n",
    "\n",
    "#ML\n",
    "from sklearn.base import BaseEstimator, RegressorMixin\n",
    "from sklearn.metrics import make_scorer\n",
    "from sklearn.model_selection import GridSearchCV,RandomizedSearchCV\n",
    "\n",
    "from xgboost.sklearn import XGBRegressor\n",
    "from sklearn.ensemble import GradientBoostingRegressor\n",
    "\n",
    "#utils\n",
    "from functools import partial\n",
    "\n",
    "#plotting libs\n",
    "import matplotlib.pyplot as plt\n",
    "import seaborn as sns"
   ]
  },
  {
   "cell_type": "code",
   "execution_count": 4,
   "id": "95896287-2e9f-4532-b6e0-7296324fa7c2",
   "metadata": {},
   "outputs": [],
   "source": [
    "# Python file with supporting functions\n",
    "import pre_SOCAT"
   ]
  },
  {
   "cell_type": "code",
   "execution_count": 5,
   "id": "9b11a01e-5411-4619-8f2e-6e78582731a8",
   "metadata": {},
   "outputs": [],
   "source": [
    "# =========================================\n",
    "# For accessing directories\n",
    "# =========================================\n",
    "root_dir = \"/data/artemis/workspace/vbennington/SOCAT_ML/pCO2_DIC\"\n",
    "\n",
    "reference_output_dir = f\"{root_dir}/references\"\n",
    "data_output_dir = f\"{root_dir}/data/processed\"\n",
    "model_output_dir = f\"{root_dir}/models/trained\"\n",
    "recon_output_dir = f\"{root_dir}/models/reconstructions\"\n",
    "other_output_dir = f\"{root_dir}/models/performance_metrics\"\n",
    "\n",
    "approach = 'xg_quantile'\n",
    "approach_output_dir = f\"{other_output_dir}/{approach}\"\n",
    "# =========================================\n",
    "# Number of cores you have access to for model training\n",
    "# =========================================\n",
    "jobs = 30"
   ]
  },
  {
   "cell_type": "code",
   "execution_count": 6,
   "id": "bb032fe9-e0c5-4a52-aab1-b1846d6bfc42",
   "metadata": {},
   "outputs": [],
   "source": [
    "# =========================================\n",
    "# Defining some inputs for the modeling process\n",
    "# =========================================\n",
    "\n",
    "# Train-validate-test split proportions for LET runs:\n",
    "# Parameter grids\n",
    "xg_param_grid = {\"n_estimators\":[1000, 2000, 3000],\n",
    "                 \"max_depth\":[5,6,7,8],\n",
    "                 \"max_delta_step\":[2,5,10],\n",
    "                 \n",
    "                }\n",
    "\n",
    "# Feature and target lists for feeding into ML:\n",
    "features_sel = ['sst','sst_anom','sss','sss_anom','chl_log','chl_anom','mld_log','xco2','A','B','C','T0','T1'] # pCO2_DIC\n",
    "target_sel = ['pCO2_DIC']  # What we reconstruct with ML\n",
    "final_sel = ['pCO2'] # What we want RMSE, etc. for (pCO2 = pCO2_DIC + pCO2_T)"
   ]
  },
  {
   "cell_type": "code",
   "execution_count": 7,
   "id": "f6f6f552-b0e6-44db-a062-8ee7f1a47cd3",
   "metadata": {},
   "outputs": [],
   "source": [
    "# Want to train with 4 out of every 5 months, and test on the fifth month\n",
    "date_range_start = '1982-01-01T00:00:00.000000000'\n",
    "date_range_end = '2019-12-01T00:00:00.000000000'\n",
    "\n",
    "# create date vector\n",
    "dates = pd.date_range(start=date_range_start, \n",
    "                      end=date_range_end,freq='MS') + np.timedelta64(14, 'D')\n",
    "select_dates = []\n",
    "test_dates = []\n",
    "for i in range(0,len(dates)):\n",
    "    if i % 5 != 0:\n",
    "        select_dates.append(dates[i])\n",
    "    if i % 5 == 0:\n",
    "        test_dates.append(dates[i])\n",
    "year_mon = []\n",
    "for i in range(0,len(select_dates)):\n",
    "    tmp = select_dates[i]\n",
    "    year_mon.append(f\"{tmp.year}-{tmp.month}\")\n",
    "test_year_mon = []\n",
    "for i in range(0,len(test_dates)):\n",
    "    tmp = test_dates[i]\n",
    "    test_year_mon.append(f\"{tmp.year}-{tmp.month}\")"
   ]
  },
  {
   "cell_type": "code",
   "execution_count": 8,
   "id": "51ca7c30-e065-4e16-a195-cadd175a34ab",
   "metadata": {},
   "outputs": [],
   "source": [
    "approach = 'xgb_quantile'\n",
    "approach_output_dir = f\"{other_output_dir}/{approach}\"\n",
    "random_seeds = [13,71] # pCO2_DIC\n",
    "first_run = True"
   ]
  },
  {
   "cell_type": "markdown",
   "id": "62c52049-8a4c-4f54-a4a9-4f492cfcee92",
   "metadata": {},
   "source": [
    "# Get X,Y we Need to Train, Test, Predict"
   ]
  },
  {
   "cell_type": "code",
   "execution_count": 11,
   "id": "e4fcca9f-ea63-47bc-af49-38eeb349a380",
   "metadata": {},
   "outputs": [
    {
     "name": "stdout",
     "output_type": "stream",
     "text": [
      "2021-12-22 13:57:23.767773\n",
      "SOCAT length = 262710\n",
      "Train/Val length =  209961\n",
      "Test length = 52749\n",
      "2021-12-22 14:01:02.791947\n"
     ]
    }
   ],
   "source": [
    "if first_run:\n",
    "    best_params = {} # Uncomment if running cross validation to find best params\n",
    "else:\n",
    "    param_fname = f\"{approach_output_dir}/{approach}_best_params_dict.pickle\"\n",
    "    with open(param_fname, 'rb') as handle:\n",
    "        best_params = pickle.load(handle)\n",
    "    \n",
    "test_performance = defaultdict(dict)\n",
    "\n",
    "K_folds = 3\n",
    "\n",
    "print(datetime.datetime.now())\n",
    "\n",
    "# Data file path\n",
    "data_dir = f\"{data_output_dir}\"\n",
    "fname = f\"data_clean_2D_mon_1x1_198201-201912.pkl\"\n",
    "file_path = f\"{data_dir}/{fname}\"\n",
    "        \n",
    "# Read in data, create some selection filters, produce a reduced dataframe\n",
    "df = pd.read_pickle(file_path)\n",
    "\n",
    "# Get rid of features we never use:\n",
    "df = df.drop(columns=['chl','mld'])\n",
    "\n",
    "# Test on every fifth month to reduce autocorrelation along cruise tracks, but still sample many climate anomalies...\n",
    "df['year'] = df.index.get_level_values('time').year\n",
    "df['mon'] = df.index.get_level_values('time').month\n",
    "df['year_month'] = df['year'].astype(str) + \"-\" + df['mon'].astype(str)\n",
    "\n",
    "# Get rid of N    \n",
    "recon_sel = (~df[features_sel+['net_mask']].isna().any(axis=1))   # Dont' have dpCO2 for non-SOCAT locations, but have features\n",
    "\n",
    "# Try (200,-250) as cut off based on histogram plots of SOCAT data:\n",
    "################################################################################################################################        \n",
    "sel = (recon_sel & (df['socat_mask'] == 1)) & ((df['pCO2'] < 650)).to_numpy().ravel()           # locations not masked AND IN SOCAT SAMPLING and within reason\n",
    "\n",
    "print(\"SOCAT length =\",sum(sel))\n",
    "\n",
    "###################################################################################################################################\n",
    "# Separate the data sets\n",
    "###################################################################################################################################\n",
    "train_val_sel = ((sel) & (pd.Series(df['year_month']).isin(year_mon))).to_numpy().ravel()\n",
    "print(\"Train/Val length = \",sum(train_val_sel))\n",
    "\n",
    "test_sel = ((sel) & (pd.Series(df['year_month']).isin(test_year_mon))).to_numpy().ravel()   # Should be along SOCAT track\n",
    "print(\"Test length =\",sum(test_sel))     \n",
    "\n",
    "################################################################################################################################\n",
    "# Convert dataframe to numpy arrays, train/val/test split\n",
    "X = df.loc[sel,features_sel].to_numpy()         \n",
    "y = df.loc[sel,target_sel].to_numpy().ravel()\n",
    "\n",
    "# Where we want dpCO2 reconstructed\n",
    "X_recon = df.loc[recon_sel,features_sel].to_numpy()         \n",
    "\n",
    "#X_train, X_val, y_train, y_val = mselect.train_test_split(X_train_val, y_train_val, test_size=val_prop, random_state=42)  \n",
    "# Convert dataframe to numpy arrays, train/val/test split\n",
    "X_train_val = df.loc[train_val_sel,features_sel].to_numpy()                # create Xtrain and Xtest to randomly select from for X_train and X_test\n",
    "y_train_val = df.loc[train_val_sel,target_sel].to_numpy().ravel()\n",
    "\n",
    "print(datetime.datetime.now())"
   ]
  },
  {
   "cell_type": "code",
   "execution_count": 48,
   "id": "0975a38f-d300-4074-aa2a-ce25baec54a6",
   "metadata": {},
   "outputs": [
    {
     "name": "stdout",
     "output_type": "stream",
     "text": [
      "XGBQuantile(quant_delta=5.0, quant_thres=5.0, quant_var=4.0)\n"
     ]
    }
   ],
   "source": [
    "estimator = XGBQuantile(quant_alpha = 0.95,quant_delta=5.0, quant_thres = 5.0 ,quant_var=4.0, n_estimators=1500, max_depth=5)\n",
    "print(estimator)"
   ]
  },
  {
   "cell_type": "code",
   "execution_count": 77,
   "id": "bfb41b19-3235-442b-8574-f09490b9299a",
   "metadata": {},
   "outputs": [
    {
     "name": "stdout",
     "output_type": "stream",
     "text": [
      "RandomizedSearchCV(cv=3,\n",
      "                   estimator=XGBQuantile(quant_delta=5.0, quant_thres=5.0,\n",
      "                                         quant_var=4.0),\n",
      "                   n_iter=100, n_jobs=5,\n",
      "                   param_distributions={'quant_delta': <scipy.stats._distn_infrastructure.rv_frozen object at 0x7f2f783e0208>,\n",
      "                                        'quant_thres': <scipy.stats._distn_infrastructure.rv_frozen object at 0x7f2f783e0588>,\n",
      "                                        'quant_var': <scipy.stats._distn_infrastructure.rv_frozen object at 0x7f2f783e00b8>},\n",
      "                   pre_dispatch=1, verbose=3)\n",
      "Fitting 3 folds for each of 100 candidates, totalling 300 fits\n"
     ]
    },
    {
     "name": "stderr",
     "output_type": "stream",
     "text": [
      "[Parallel(n_jobs=5)]: Using backend LokyBackend with 5 concurrent workers.\n",
      "[Parallel(n_jobs=5)]: Done  31 tasks      | elapsed: 80.8min\n",
      "[Parallel(n_jobs=5)]: Done 127 tasks      | elapsed: 342.3min\n",
      "[Parallel(n_jobs=5)]: Done 287 tasks      | elapsed: 756.9min\n",
      "[Parallel(n_jobs=5)]: Done 300 out of 300 | elapsed: 791.0min finished\n"
     ]
    },
    {
     "name": "stdout",
     "output_type": "stream",
     "text": [
      "{'quant_delta': 10.178208405163604, 'quant_thres': 91.49541051056248, 'quant_var': 16.077370696856484}\n"
     ]
    }
   ],
   "source": [
    "# Find parameters for Upper Bounds (alpha = 0.95)\n",
    "gs_upper  = RandomizedSearchCV(estimator = estimator, \n",
    "                        param_distributions={\n",
    "                                  'quant_delta':scipy.stats.uniform(0.01,100.0),\n",
    "                                  'quant_var':scipy.stats.uniform(1.0,100.0),\n",
    "                                  'quant_thres':scipy.stats.uniform(0.01,100.0)\n",
    "                        },n_iter=100,n_jobs=5,cv=K_folds,return_train_score=False,pre_dispatch=1,verbose=3)\n",
    "print(gs_upper)\n",
    "gs_upper.fit(X_train_val,y_train_val)\n",
    "\n",
    "print(gs_upper.best_params_)"
   ]
  },
  {
   "cell_type": "code",
   "execution_count": 78,
   "id": "6a20508a-2c3c-4cbc-bd15-e70503119334",
   "metadata": {},
   "outputs": [],
   "source": [
    "upper_best_params = gs_upper.best_params_"
   ]
  },
  {
   "cell_type": "code",
   "execution_count": 79,
   "id": "5bbfc13e-8df6-46ee-8fe2-7c9582b32684",
   "metadata": {},
   "outputs": [
    {
     "name": "stdout",
     "output_type": "stream",
     "text": [
      "{'quant_delta': 10.178208405163604, 'quant_thres': 91.49541051056248, 'quant_var': 16.077370696856484}\n"
     ]
    }
   ],
   "source": [
    "print(upper_best_params)"
   ]
  },
  {
   "cell_type": "code",
   "execution_count": 17,
   "id": "882fdece-bbc8-46eb-947c-dba783b93986",
   "metadata": {},
   "outputs": [],
   "source": [
    "################ TEST ####################################################################################################\n",
    "X_test = df.loc[test_sel,features_sel].to_numpy()                #  Test metrics on all of SOCAT data from test years\n",
    "y_test = df.loc[test_sel,target_sel].to_numpy().ravel()"
   ]
  },
  {
   "cell_type": "code",
   "execution_count": 30,
   "id": "9111e04a-0483-4129-b610-7665f68dbba8",
   "metadata": {},
   "outputs": [
    {
     "name": "stdout",
     "output_type": "stream",
     "text": [
      "{'mse': 260.45381653008604, 'mae': 10.853762506859285, 'medae': 7.419853765533674, 'max_error': 176.0990028002031, 'bias': 0.21753270169899963, 'r2': 0.8442206583114492, 'corr': 0.91886828409821, 'cent_rmse': 16.137115477808738, 'stdev': 37.913956, 'amp_ratio': 0.9961918243129756, 'stdev_ref': 40.889371082588895, 'range_ref': 399.4094490875581, 'iqr_ref': 44.526950407469656}\n"
     ]
    }
   ],
   "source": [
    "# XGBoost!\n",
    "\n",
    "regressor = XGBRegressor(reg_alpha=5, reg_lambda=1,gamma=0.5,n_jobs=30)\n",
    "y_pred_test = regressor.fit(X_train_val,y_train_val).predict(X_test)\n",
    "test_performance = pre_SOCAT.evaluate_test(y_test, y_pred_test)\n",
    "print(test_performance)\n",
    "y_pred_all = regressor.fit(X_train_val,y_train_val).predict(X_recon)"
   ]
  },
  {
   "cell_type": "code",
   "execution_count": 80,
   "id": "13ffe1b3-6f7a-4268-a1fd-011cabb4f07f",
   "metadata": {},
   "outputs": [
    {
     "name": "stdout",
     "output_type": "stream",
     "text": [
      "Quantile XGB alpha = 0.95,score = 112375.6\n"
     ]
    }
   ],
   "source": [
    "# Upper Bounds\n",
    "#regressor_upper = XGBQuantile(n_estimators=1344,max_depth = 4, reg_alpha =5.0,gamma = 0.5,reg_lambda =1.0, n_jobs=30)     \n",
    "regressor_upper = XGBQuantile(n_jobs=30)     \n",
    "regressor_upper.set_params(quant_alpha=0.95,quant_delta=10.17,quant_thres=91.50,quant_var=16.08)\n",
    "y_upper_test = collect_prediction(X_train_val,y_train_val,X_test,y_test,estimator=regressor_upper,alpha=0.95,model_name=\"Quantile XGB\")\n",
    "y_upper_recon = regressor_upper.fit(X_train_val,y_train_val).predict(X_recon)"
   ]
  },
  {
   "cell_type": "code",
   "execution_count": 67,
   "id": "4edffdaf-d26a-49e3-b778-62e989c0198d",
   "metadata": {},
   "outputs": [
    {
     "name": "stdout",
     "output_type": "stream",
     "text": [
      "RandomizedSearchCV(cv=3,\n",
      "                   estimator=XGBQuantile(quant_alpha=0.05, quant_delta=5.0,\n",
      "                                         quant_thres=5.0, quant_var=4.0),\n",
      "                   n_iter=100, n_jobs=30,\n",
      "                   param_distributions={'quant_delta': <scipy.stats._distn_infrastructure.rv_frozen object at 0x7f2f69bafa20>,\n",
      "                                        'quant_thres': <scipy.stats._distn_infrastructure.rv_frozen object at 0x7f2f69bafd30>,\n",
      "                                        'quant_var': <scipy.stats._distn_infrastructure.rv_frozen object at 0x7f2f69baff28>},\n",
      "                   pre_dispatch=1, return_train_score=True, verbose=3)\n",
      "Fitting 3 folds for each of 100 candidates, totalling 300 fits\n"
     ]
    },
    {
     "name": "stderr",
     "output_type": "stream",
     "text": [
      "[Parallel(n_jobs=30)]: Using backend LokyBackend with 30 concurrent workers.\n",
      "[Parallel(n_jobs=30)]: Done  31 tasks      | elapsed: 82.8min\n",
      "[Parallel(n_jobs=30)]: Done 127 tasks      | elapsed: 338.2min\n",
      "[Parallel(n_jobs=30)]: Done 287 tasks      | elapsed: 766.7min\n",
      "[Parallel(n_jobs=30)]: Done 300 out of 300 | elapsed: 802.4min finished\n"
     ]
    },
    {
     "name": "stdout",
     "output_type": "stream",
     "text": [
      "{'quant_delta': 48.90268283735166, 'quant_thres': 94.48456677774611, 'quant_var': 3.346223600794406}\n"
     ]
    }
   ],
   "source": [
    "# Get Params for Lower Bounds:\n",
    "\n",
    "estimator_lower = XGBQuantile(quant_alpha = 0.05,quant_delta= 5.0, quant_thres = 5.0 ,quant_var=4.0)\n",
    "gs_lower  = RandomizedSearchCV(estimator = estimator_lower, \n",
    "                        param_distributions={\n",
    "                                  'quant_delta':scipy.stats.uniform(0.01,100.0),\n",
    "                                  'quant_var':scipy.stats.uniform(1.0,100.0),\n",
    "                                  'quant_thres':scipy.stats.uniform(0.01,100.0)},\n",
    "                         n_iter=100,n_jobs=5,cv=K_folds,return_train_score=True,pre_dispatch=1,verbose=3)\n",
    "\n",
    "print(gs_lower)\n",
    "gs_lower.fit(X_train_val,y_train_val)\n",
    "print(gs_lower.best_params_)\n",
    "lower_best_params = gs_lower.best_params_"
   ]
  },
  {
   "cell_type": "code",
   "execution_count": 68,
   "id": "339c30c9-0e6a-42d0-8d16-a2524773241d",
   "metadata": {},
   "outputs": [
    {
     "name": "stdout",
     "output_type": "stream",
     "text": [
      "{'quant_delta': 48.90268283735166, 'quant_thres': 94.48456677774611, 'quant_var': 3.346223600794406}\n"
     ]
    }
   ],
   "source": [
    "print(lower_best_params)"
   ]
  },
  {
   "cell_type": "code",
   "execution_count": 70,
   "id": "da067487-4c6c-4edc-ad15-3e0aa0a9ab33",
   "metadata": {},
   "outputs": [
    {
     "name": "stdout",
     "output_type": "stream",
     "text": [
      "XGBQuantile(quant_alpha=0.05, quant_delta=48.9, quant_thres=94.48,\n",
      "            quant_var=3.35)\n",
      "Quantile XGB alpha = 0.05,score = 149514.6\n"
     ]
    }
   ],
   "source": [
    "# Lower Bounds\n",
    "#regressor_low = XGBQuantile(n_estimators=1498,max_depth = 5, reg_alpha =5.0,gamma = 0.5,reg_lambda =1.0, n_jobs=30)     \n",
    "regressor_low = XGBQuantile(n_estimators=1500,max_depth=5, n_jobs=30)     \n",
    "regressor_low.set_params(quant_alpha=0.05,quant_delta=48.9,quant_thres=94.48,quant_var=3.35)\n",
    "print(regressor_low)\n",
    "y_lower_test = collect_prediction(X_train_val,y_train_val,X_test,y_test,estimator=regressor_low,alpha=0.05,model_name=\"Quantile XGB\")\n",
    "y_lower_recon = regressor_low.fit(X_train_val,y_train_val).predict(X_recon)"
   ]
  },
  {
   "cell_type": "code",
   "execution_count": 81,
   "id": "516398e9-44f7-4c36-af4d-835e295c3f50",
   "metadata": {},
   "outputs": [],
   "source": [
    "# Uncertainty Range (90% confidence interval):\n",
    "y_range_recon = y_upper_recon - y_lower_recon"
   ]
  },
  {
   "cell_type": "code",
   "execution_count": 82,
   "id": "b400f21f-26b0-4117-b82c-4678c374ead1",
   "metadata": {},
   "outputs": [
    {
     "name": "stdout",
     "output_type": "stream",
     "text": [
      "Starting reconstruction saving process\n",
      "Save complete\n"
     ]
    }
   ],
   "source": [
    "# Full reconstruction ##\n",
    "df['pCO2_DIC_upper'] = np.nan\n",
    "df.loc[recon_sel,['pCO2_DIC_upper']] = y_upper_recon \n",
    "\n",
    "df['pCO2_DIC_lower'] = np.nan\n",
    "df.loc[recon_sel,['pCO2_DIC_lower']] = y_lower_recon   \n",
    "\n",
    "df['pCO2_DIC_range'] = np.nan\n",
    "df.loc[recon_sel,['pCO2_DIC_range']] = y_range_recon\n",
    "\n",
    "df['pCO2_DIC_test'] = np.nan\n",
    "df.loc[test_sel,['pCO2_DIC_test']] = y_test \n",
    "\n",
    "df['pCO2_DIC_test_upper'] = np.nan\n",
    "df.loc[test_sel,['pCO2_DIC_test_upper']] = y_upper_test \n",
    "\n",
    "df['pCO2_DIC_test_lower'] = np.nan\n",
    "df.loc[test_sel,['pCO2_DIC_test_lower']] = y_lower_test \n",
    "\n",
    "DS_recon = df[['net_mask','socat_mask','pCO2_DIC','pCO2_DIC_test','pCO2_DIC_test_lower','pCO2_DIC_test_upper','pCO2_DIC_upper','pCO2_DIC_lower','pCO2_DIC_range','pCO2','pCO2_T']].to_xarray()\n",
    "\n",
    "########## SAVE ####################################################################################################\n",
    "pre_SOCAT.save_recon(DS_recon, recon_output_dir, approach)   # Uncomment when actually running"
   ]
  },
  {
   "cell_type": "code",
   "execution_count": 89,
   "id": "923d3fec-ecb4-44da-8132-693cbf22b756",
   "metadata": {},
   "outputs": [],
   "source": [
    "import cmocean as cm  "
   ]
  },
  {
   "cell_type": "code",
   "execution_count": 96,
   "id": "25286405-004d-4662-ae44-8438fe4b562d",
   "metadata": {},
   "outputs": [
    {
     "data": {
      "text/plain": [
       "Text(0.5,1,'XGBoost 90% Confidence')"
      ]
     },
     "execution_count": 96,
     "metadata": {},
     "output_type": "execute_result"
    },
    {
     "data": {
      "image/jpeg": "[encoded data removed]",
      "text/plain": [
       "<Figure size 432x288 with 2 Axes>"
      ]
     },
     "metadata": {
      "needs_background": "light"
     },
     "output_type": "display_data"
    }
   ],
   "source": [
    "fig = plt.figure()\n",
    "plt.contourf(DS_recon.xlon,DS_recon.ylat,DS_recon.pCO2_DIC_range.mean(\"time\").transpose()/2,levels=np.linspace(0,50,101),cmap=cm.cm.balance)\n",
    "plt.colorbar()\n",
    "plt.title('XGBoost 90% Confidence')"
   ]
  },
  {
   "cell_type": "code",
   "execution_count": null,
   "id": "f793e8bc-abc5-402c-8129-b4e70761be9b",
   "metadata": {},
   "outputs": [],
   "source": [
    "# Save the model\n",
    "pre_SOCAT.save_model(lower_model, model_output_dir, approach)   #Uncomment when actually running\n",
    "######################################################################################"
   ]
  },
  {
   "cell_type": "code",
   "execution_count": 43,
   "id": "fc3bf32e-0a9b-430c-98e3-037db8417315",
   "metadata": {},
   "outputs": [],
   "source": [
    "#@title XGBQuantile Class\n",
    "class XGBQuantile(XGBRegressor):\n",
    "    def __init__(self,quant_alpha=0.95,quant_delta = 1.0,quant_thres=1.0,quant_var =1.0,base_score=0.5, booster='gbtree', colsample_bylevel=1,\n",
    "                colsample_bytree=1, gamma=0, learning_rate=0.1, max_delta_step=0,max_depth=5, min_child_weight=1, missing=None, n_estimators=1500,\n",
    "                n_jobs=jobs, nthread=None, objective='reg:squarederror', random_state=random_seeds[0],reg_alpha=0, reg_lambda=1, scale_pos_weight=1, seed=None,silent=True, subsample=1):\n",
    "        self.quant_alpha = quant_alpha\n",
    "        self.quant_delta = quant_delta\n",
    "        self.quant_thres = quant_thres\n",
    "        self.quant_var = quant_var\n",
    "    \n",
    "        super().__init__(base_score=base_score, booster=booster, colsample_bylevel=colsample_bylevel,\n",
    "           colsample_bytree=colsample_bytree, gamma=gamma, learning_rate=learning_rate, max_delta_step=max_delta_step,\n",
    "           max_depth=max_depth, min_child_weight=min_child_weight, missing=missing, n_estimators=n_estimators,\n",
    "           n_jobs= n_jobs, nthread=nthread, objective=objective, random_state=random_state,\n",
    "           reg_alpha=reg_alpha, reg_lambda=reg_lambda, scale_pos_weight=scale_pos_weight, seed=seed,\n",
    "           silent=silent, subsample=subsample)\n",
    "    \n",
    "        self.test = None\n",
    "  \n",
    "    def fit(self, X, y):\n",
    "        super().set_params(objective=partial(XGBQuantile.quantile_loss,alpha = self.quant_alpha,delta = self.quant_delta,threshold = self.quant_thres,var = self.quant_var) )\n",
    "        super().fit(X,y)\n",
    "        return self\n",
    "  \n",
    "    def predict(self,X):\n",
    "        return super().predict(X)\n",
    "  \n",
    "    def score(self, X, y):\n",
    "        y_pred = super().predict(X)\n",
    "        score = XGBQuantile.quantile_score(y, y_pred, self.quant_alpha)\n",
    "        score = 1./score\n",
    "        return score\n",
    "      \n",
    "    @staticmethod\n",
    "    def quantile_loss(y_true,y_pred,alpha,delta,threshold,var):\n",
    "        x = y_true - y_pred\n",
    "        grad = (x<(alpha-1.0)*delta)*(1.0-alpha)-  ((x>=(alpha-1.0)*delta)& (x<alpha*delta) )*x/delta-alpha*(x>alpha*delta)\n",
    "        hess = ((x>=(alpha-1.0)*delta)& (x<alpha*delta) )/delta \n",
    " \n",
    "        grad = (np.abs(x)<threshold )*grad - (np.abs(x)>=threshold )*(2*np.random.randint(2, size=len(y_true)) -1.0)*var\n",
    "        hess = (np.abs(x)<threshold )*hess + (np.abs(x)>=threshold )\n",
    "        return grad, hess\n",
    "  \n",
    "    @staticmethod\n",
    "    def original_quantile_loss(y_true,y_pred,alpha,delta):\n",
    "        x = y_true - y_pred\n",
    "        grad = (x<(alpha-1.0)*delta)*(1.0-alpha)-((x>=(alpha-1.0)*delta)& (x<alpha*delta) )*x/delta-alpha*(x>alpha*delta)\n",
    "        hess = ((x>=(alpha-1.0)*delta)& (x<alpha*delta) )/delta \n",
    "        return grad,hess\n",
    "\n",
    "  \n",
    "    @staticmethod\n",
    "    def quantile_score(y_true, y_pred, alpha):\n",
    "        score = XGBQuantile.quantile_cost(x=y_true-y_pred,alpha=alpha)\n",
    "        score = np.sum(score)\n",
    "        return score\n",
    "  \n",
    "    @staticmethod\n",
    "    def quantile_cost(x, alpha):\n",
    "        return (alpha-1.0)*x*(x<0)+alpha*x*(x>=0)\n",
    "  \n",
    "    @staticmethod\n",
    "    def get_split_gain(gradient,hessian,l=1):\n",
    "        split_gain = list()\n",
    "        for i in range(gradient.shape[0]):\n",
    "            split_gain.append(np.sum(gradient[:i])**2/(np.sum(hessian[:i])+l)+np.sum(gradient[i:])**2/(np.sum(hessian[i:])+l)-np.sum(gradient)**2/(np.sum(hessian)+l) )\n",
    "    \n",
    "        return np.array(split_gain)"
   ]
  },
  {
   "cell_type": "code",
   "execution_count": 44,
   "id": "f4f115ae-da6c-4a67-8f9c-66125ba52c04",
   "metadata": {},
   "outputs": [],
   "source": [
    "def collect_prediction(X_train,y_train,X_test,y_test,estimator,alpha,model_name):\n",
    "    estimator.fit(X_train,y_train)\n",
    "    y_pred = estimator.predict(X_test)\n",
    "    print( \"{model_name} alpha = {alpha:.2f},score = {score:.1f}\".format(model_name=model_name, alpha=alpha , score= XGBQuantile.quantile_score(y_test, y_pred, alpha)) )\n",
    "\n",
    "    return y_pred"
   ]
  },
  {
   "cell_type": "code",
   "execution_count": null,
   "id": "b929a5d5-2e5e-49c8-8ef4-837e2a4a28b7",
   "metadata": {},
   "outputs": [],
   "source": []
  }
 ],
 "metadata": {
  "kernelspec": {
   "display_name": "EOF Test2",
   "language": "python",
   "name": "dev2"
  },
  "language_info": {
   "codemirror_mode": {
    "name": "ipython",
    "version": 3
   },
   "file_extension": ".py",
   "mimetype": "text/x-python",
   "name": "python",
   "nbconvert_exporter": "python",
   "pygments_lexer": "ipython3",
   "version": "3.6.7"
  }
 },
 "nbformat": 4,
 "nbformat_minor": 5
}
