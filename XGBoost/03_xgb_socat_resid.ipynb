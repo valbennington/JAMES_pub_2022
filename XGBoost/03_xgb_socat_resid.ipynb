{
 "cells": [
  {
   "cell_type": "markdown",
   "metadata": {},
   "source": [
    "Description\n",
    "\n",
    "This file trains the XGBoost models and creates the reconstructions. \n",
    "\n",
    "New to this code, test on data from every fifth month (train on the prior four)\n",
    " Run 5 times to reconstruct\n",
    "\n",
    "Inputs"
   ]
  },
  {
   "cell_type": "code",
   "execution_count": 36,
   "metadata": {},
   "outputs": [],
   "source": [
    "# =========================================\n",
    "# For accessing directories\n",
    "# =========================================\n",
    "#root_dir = \"/data/artemis/workspace/vbennington/SOCAT_ML/pCO2_DIC_Taka\"\n",
    "root_dir = \"/data/artemis/workspace/vbennington/SOCAT_ML/pCO2_DIC\"\n",
    "\n",
    "reference_output_dir = f\"{root_dir}/references\"\n",
    "data_output_dir = f\"{root_dir}/data/processed\"\n",
    "model_output_dir = f\"{root_dir}/models/trained\"\n",
    "recon_output_dir = f\"{root_dir}/models/reconstructions\"\n",
    "other_output_dir = f\"{root_dir}/models/performance_metrics\"\n",
    "\n",
    "# Set this:\n",
    "run = 5\n",
    "\n",
    "approach = 'xg'\n",
    "approach_output_dir = f\"{other_output_dir}/{approach}\"\n",
    "# =========================================\n",
    "# Number of cores you have access to for model training\n",
    "# =========================================\n",
    "jobs = 30"
   ]
  },
  {
   "cell_type": "code",
   "execution_count": 3,
   "metadata": {},
   "outputs": [],
   "source": [
    "import pandas as pd\n",
    "import xarray as xr\n",
    "import numpy as np\n",
    "import numpy.ma as ma\n",
    "%matplotlib inline\n",
    "%config InlineBackend.figure_format = 'jpg'\n",
    "import matplotlib as mpl\n",
    "from matplotlib.ticker import AutoMinorLocator\n",
    "import matplotlib.pyplot as plt\n",
    "import scipy\n",
    "import sklearn.linear_model \n",
    "import pickle"
   ]
  },
  {
   "cell_type": "markdown",
   "metadata": {},
   "source": [
    "Modules"
   ]
  },
  {
   "cell_type": "code",
   "execution_count": 5,
   "metadata": {},
   "outputs": [],
   "source": [
    "# standard imports\n",
    "import os\n",
    "import datetime\n",
    "from pathlib import Path\n",
    "from collections import defaultdict\n",
    "import random\n",
    "\n",
    "# machine learning libraries\n",
    "import sklearn            # machine-learning libary with many algorithms implemented\n",
    "import xgboost as xgb     # extreme gradient boosting (XGB\n",
    "from xgboost import XGBRegressor\n",
    "from sklearn.model_selection import GridSearchCV\n",
    "from sklearn.model_selection import GroupKFold\n",
    "import sklearn.model_selection as mselect\n",
    "\n",
    "# Python file with supporting functions\n",
    "import pre_SOCAT"
   ]
  },
  {
   "cell_type": "markdown",
   "metadata": {},
   "source": [
    "Predefined Values"
   ]
  },
  {
   "cell_type": "code",
   "execution_count": 10,
   "metadata": {},
   "outputs": [],
   "source": [
    "# Loading references"
   ]
  },
  {
   "cell_type": "code",
   "execution_count": 37,
   "metadata": {},
   "outputs": [],
   "source": [
    "# Want to train with 4 out of every 5 months, and test on the fifth month\n",
    "# 5 runs, each training / testing on different set of months\n",
    "\n",
    "date_range_start = '1982-01-01T00:00:00.000000000'\n",
    "date_range_end = '2019-12-01T00:00:00.000000000'\n",
    "\n",
    "# Run 1 (Mod 5, offset 0) ####\n",
    "# create date vector\n",
    "dates = pd.date_range(start=date_range_start, \n",
    "                      end=date_range_end,freq='MS') + np.timedelta64(14, 'D')\n",
    "select_dates = []\n",
    "test_dates = []\n",
    "\n",
    "if run ==1:\n",
    "    for i in range(0,len(dates)):\n",
    "        if i % 5 != 0:  # months 0, 5, 10, 15, 20, 25, ... \n",
    "            select_dates.append(dates[i])\n",
    "        if i % 5 == 0:\n",
    "            test_dates.append(dates[i])\n",
    "    year_mon = []\n",
    "    for i in range(0,len(select_dates)):\n",
    "        tmp = select_dates[i]\n",
    "        year_mon.append(f\"{tmp.year}-{tmp.month}\")\n",
    "    test_year_mon = []\n",
    "    for i in range(0,len(test_dates)):\n",
    "        tmp = test_dates[i]\n",
    "        test_year_mon.append(f\"{tmp.year}-{tmp.month}\")\n",
    "    \n",
    "# Run 2 (Mod 5, offset 1)    \n",
    "if run ==2:\n",
    "    for i in range(0,len(dates)):\n",
    "        if (i+1) % 5 != 0:  # months 0, 5, 10, 15, 20, 25, ... \n",
    "            select_dates.append(dates[i])\n",
    "        if (i+1) % 5 == 0:\n",
    "            test_dates.append(dates[i])\n",
    "    year_mon = []\n",
    "    for i in range(0,len(select_dates)):\n",
    "        tmp = select_dates[i]\n",
    "        year_mon.append(f\"{tmp.year}-{tmp.month}\")\n",
    "    test_year_mon = []\n",
    "    for i in range(0,len(test_dates)):\n",
    "        tmp = test_dates[i]\n",
    "        test_year_mon.append(f\"{tmp.year}-{tmp.month}\")\n",
    "        \n",
    "# Run 3 (Mod 5, offset 2)    \n",
    "if run ==3:\n",
    "    for i in range(0,len(dates)):\n",
    "        if (i+2) % 5 != 0:  # months 0, 5, 10, 15, 20, 25, ... \n",
    "            select_dates.append(dates[i])\n",
    "        if (i+2) % 5 == 0:\n",
    "            test_dates.append(dates[i])\n",
    "    year_mon = []\n",
    "    for i in range(0,len(select_dates)):\n",
    "        tmp = select_dates[i]\n",
    "        year_mon.append(f\"{tmp.year}-{tmp.month}\")\n",
    "    test_year_mon = []\n",
    "    for i in range(0,len(test_dates)):\n",
    "        tmp = test_dates[i]\n",
    "        test_year_mon.append(f\"{tmp.year}-{tmp.month}\")\n",
    "        \n",
    "# Run 4 (Mod 5, offset 3)    \n",
    "if run ==4:\n",
    "    for i in range(0,len(dates)):\n",
    "        if (i+3) % 5 != 0:  # months 0, 5, 10, 15, 20, 25, ... \n",
    "            select_dates.append(dates[i])\n",
    "        if (i+3) % 5 == 0:\n",
    "            test_dates.append(dates[i])\n",
    "    year_mon = []\n",
    "    for i in range(0,len(select_dates)):\n",
    "        tmp = select_dates[i]\n",
    "        year_mon.append(f\"{tmp.year}-{tmp.month}\")\n",
    "    test_year_mon = []\n",
    "    for i in range(0,len(test_dates)):\n",
    "        tmp = test_dates[i]\n",
    "        test_year_mon.append(f\"{tmp.year}-{tmp.month}\")\n",
    "        \n",
    "# Run 5 (Mod 5, offset 4)    \n",
    "if run ==5:\n",
    "    for i in range(0,len(dates)):\n",
    "        if (i+4) % 5 != 0:  # months 0, 5, 10, 15, 20, 25, ... \n",
    "            select_dates.append(dates[i])\n",
    "        if (i+4) % 5 == 0:\n",
    "            test_dates.append(dates[i])\n",
    "    year_mon = []\n",
    "    for i in range(0,len(select_dates)):\n",
    "        tmp = select_dates[i]\n",
    "        year_mon.append(f\"{tmp.year}-{tmp.month}\")\n",
    "    test_year_mon = []\n",
    "    for i in range(0,len(test_dates)):\n",
    "        tmp = test_dates[i]\n",
    "        test_year_mon.append(f\"{tmp.year}-{tmp.month}\")"
   ]
  },
  {
   "cell_type": "code",
   "execution_count": 38,
   "metadata": {},
   "outputs": [
    {
     "name": "stdout",
     "output_type": "stream",
     "text": [
      "[68 91]\n"
     ]
    }
   ],
   "source": [
    "approach = 'xg'\n",
    "approach_output_dir = f\"{other_output_dir}/{approach}\"\n",
    "\n",
    "random_seeds_ens = np.array([[72,47],[57,16],[28,2],[99,31],[68,91]]) #pCO2_DIC_Taka, pCO2_DIC\n",
    "random_seeds = random_seeds_ens[run-1]\n",
    "print(random_seeds)\n",
    "\n",
    "if run==1:\n",
    "    first_run = True\n",
    "else:\n",
    "    first_run = False"
   ]
  },
  {
   "cell_type": "code",
   "execution_count": 9,
   "metadata": {},
   "outputs": [
    {
     "name": "stdout",
     "output_type": "stream",
     "text": [
      "{'max_depth': 9, 'n_estimators': 1000}\n"
     ]
    }
   ],
   "source": [
    "param_fname = f\"{approach_output_dir}/{approach}_best_params_dict.pickle\"\n",
    "with open(param_fname, 'rb') as handle:\n",
    "    best_params = pickle.load(handle)\n",
    "print(best_params)"
   ]
  },
  {
   "cell_type": "code",
   "execution_count": 39,
   "metadata": {},
   "outputs": [
    {
     "name": "stdout",
     "output_type": "stream",
     "text": [
      "{'max_depth': 9, 'n_estimators': 1000}\n",
      "2021-11-10 16:45:33.495668\n",
      "SOCAT length = 262710\n",
      "Train/Val length =  210875\n",
      "Test length = 51835\n",
      "2.7555913265108702\n",
      "Starting model saving process\n",
      "Save complete\n",
      "{'mse': 257.4894562012584, 'mae': 10.734984592813886, 'medae': 7.276587283585798, 'max_error': 206.22397069117335, 'bias': -0.33294141749300765, 'r2': 0.8467326748284667, 'corr': 0.9202204196764717, 'cent_rmse': 16.043023574625973, 'stdev': 37.826004, 'amp_ratio': 0.888616622087397, 'stdev_ref': 40.98783091387805, 'range_ref': 398.3222930440106, 'iqr_ref': 45.12717785084226}\n",
      "{'mse': 257.4894562012584, 'mae': 10.734984592813886, 'medae': 7.276587283585798, 'max_error': 206.22397069117335, 'bias': -0.33294135920851886, 'r2': 0.7990566520614615, 'corr': 0.8944096451059864, 'cent_rmse': 16.043023600699055, 'stdev': 33.04537246846396, 'amp_ratio': 0.8619354300039148, 'stdev_ref': 35.79669308054935, 'range_ref': 380.9914182243652, 'iqr_ref': 42.17119094776905}\n"
     ]
    }
   ],
   "source": [
    "if first_run:\n",
    "    best_params = {} # Uncomment if running cross validation to find best params\n",
    "else:\n",
    "    param_fname = f\"{approach_output_dir}/{approach}_best_params_dict.pickle\"\n",
    "    with open(param_fname, 'rb') as handle:\n",
    "        best_params = pickle.load(handle)\n",
    "        print(best_params)\n",
    "    \n",
    "test_performance = defaultdict(dict)\n",
    "\n",
    "K_folds = 3\n",
    "approach = \"xg\"\n",
    "\n",
    "print(datetime.datetime.now())\n",
    "\n",
    "# Data file path\n",
    "data_dir = f\"{data_output_dir}\"\n",
    "fname = f\"data_clean_2D_mon_1x1_198201-201912.pkl\"\n",
    "file_path = f\"{data_dir}/{fname}\"\n",
    "        \n",
    "# Read in data, create some selection filters, produce a reduced dataframe\n",
    "df = pd.read_pickle(file_path)\n",
    "\n",
    "# Get rid of features we never use:\n",
    "df = df.drop(columns=['chl','mld'])\n",
    "\n",
    "# Test on every fifth month to reduce autocorrelation along cruise tracks, but still sample many climate anomalies...\n",
    "df['year'] = df.index.get_level_values('time').year\n",
    "df['mon'] = df.index.get_level_values('time').month\n",
    "df['year_month'] = df['year'].astype(str) + \"-\" + df['mon'].astype(str)\n",
    "# Get rid of N    \n",
    "recon_sel = (~df[features_sel+['net_mask']].isna().any(axis=1))   # Dont' have dpCO2 for non-SOCAT locations, but have features\n",
    "\n",
    "################################################################################################################################        \n",
    "sel = (recon_sel & (df['socat_mask'] == 1))).to_numpy().ravel()           # locations not masked AND IN SOCAT SAMPLING and within reason\n",
    "print(\"SOCAT length =\",sum(sel))\n",
    "\n",
    "################################################################################################################################\n",
    "# Separate the data sets\n",
    "###################################################################################################################################\n",
    "\n",
    "train_val_sel = ((sel) & (pd.Series(df['year_month']).isin(year_mon))).to_numpy().ravel()\n",
    "print(\"Train/Val length = \",sum(train_val_sel))\n",
    "\n",
    "test_sel = ((sel) & (pd.Series(df['year_month']).isin(test_year_mon))).to_numpy().ravel()   # Should be along SOCAT track\n",
    "print(\"Test length =\",sum(test_sel))     \n",
    "\n",
    "\n",
    "################################################################################################################################\n",
    "        \n",
    "# Convert dataframe to numpy arrays, train/val/test split\n",
    "X = df.loc[sel,features_sel].to_numpy()         \n",
    "y = df.loc[sel,target_sel].to_numpy().ravel()\n",
    "\n",
    "# Where we want dpCO2 reconstructed\n",
    "X_recon = df.loc[recon_sel,features_sel].to_numpy()         \n",
    "\n",
    "\n",
    "#X_train, X_val, y_train, y_val = mselect.train_test_split(X_train_val, y_train_val, test_size=val_prop, random_state=42)  \n",
    "# Convert dataframe to numpy arrays, train/val/test split\n",
    "X_train_val = df.loc[train_val_sel,features_sel].to_numpy()                # create Xtrain and Xtest to randomly select from for X_train and X_test\n",
    "y_train_val = df.loc[train_val_sel,target_sel].to_numpy().ravel()\n",
    "\n",
    "\n",
    "if first_run:\n",
    "    # Within cross validation, split by year groups (Group K Fold split):\n",
    "    #final_groups = df.index.get_level_values('time').year[train_val_sel]\n",
    "    #gkf = GroupKFold(n_splits=K_folds).split(X_train_val,y_train_val,final_groups)\n",
    "    \n",
    "    # Define the model with validation set #####  \n",
    "    model = XGBRegressor(random_state=random_seeds[0], n_jobs=jobs)\n",
    "    param_grid = xg_param_grid\n",
    "    grid = GridSearchCV(model, param_grid, scoring='neg_mean_squared_error', cv=K_folds, return_train_score=False, refit=True)\n",
    "    grid.fit(X_train_val,y_train_val)\n",
    "    best_params = grid.best_params_\n",
    "    print(best_params)\n",
    "\n",
    "# Fit the model on train/validation data\n",
    "model = XGBRegressor(random_state=random_seeds[1], **best_params, n_jobs=jobs)\n",
    "model.fit(X_train_val, y_train_val)       \n",
    "print(np.nanmean(y_train_val))\n",
    "\n",
    "# Save the model\n",
    "pre_SOCAT.save_model(model, model_output_dir, approach, run)   #Uncomment when actually running\n",
    "\n",
    "################ TEST ####################################################################################################\n",
    "X_test = df.loc[test_sel,features_sel].to_numpy()                #  Test metrics on all of SOCAT data from test years\n",
    "y_test = df.loc[test_sel,target_sel].to_numpy().ravel()    \n",
    "        \n",
    "# Calculate some test error metrics and store in a dictionary\n",
    "y_pred_test = model.predict(X_test)\n",
    "\n",
    "# for pCO2_DIC\n",
    "test_performance = pre_SOCAT.evaluate_test(y_test, y_pred_test)\n",
    "print(test_performance)\n",
    "\n",
    "# for pCO2\n",
    "y_final = df.loc[test_sel,final_sel].to_numpy().ravel()  # Real pCO2 from SOCAT\n",
    "y_pco2t = df.loc[test_sel,'pCO2_T'].to_numpy().ravel() # pCO2_T\n",
    "y_pred_final = y_pred_test + y_pco2t\n",
    "\n",
    "pco2_performance = pre_SOCAT.evaluate_test(y_final, y_pred_final)\n",
    "print(pco2_performance)\n",
    "######################################################################################\n"
   ]
  },
  {
   "cell_type": "code",
   "execution_count": 40,
   "metadata": {},
   "outputs": [
    {
     "name": "stdout",
     "output_type": "stream",
     "text": [
      "Starting reconstruction saving process\n",
      "Save complete\n",
      "2021-11-10 16:53:54.025333\n"
     ]
    }
   ],
   "source": [
    "# Make room for our reconstruction:\n",
    "df=df.drop(columns=['sss','sst','mld_log','chl_log','sss_anom','sst_anom','A','B','C','T0','T1'])\n",
    "\n",
    "# Everywhere, SOCAT and non-SOCAT ####################################################\n",
    "y_recon = model.predict(X_recon)\n",
    "\n",
    "# Full reconstruction ##\n",
    "df['pCO2_DIC_recon'] = np.nan\n",
    "df.loc[recon_sel,['pCO2_DIC_recon']] = y_recon   \n",
    "\n",
    "# Full reconstruction ##\n",
    "df['pCO2_recon'] = np.nan\n",
    "df.loc[recon_sel,['pCO2_recon']] = y_recon + df.loc[recon_sel,'pCO2_T'].to_numpy() # pCO2-DIC + pCO2_T\n",
    "\n",
    "df['pCO2_test_recon'] = np.nan\n",
    "df.loc[test_sel,['pCO2_test_recon']] = y_pred_final\n",
    "\n",
    "df['pCO2_test'] = np.nan\n",
    "df.loc[test_sel,['pCO2_test']] = y_final\n",
    "\n",
    "df['pCO2_DIC_test_recon'] = np.nan\n",
    "df.loc[test_sel,['pCO2_DIC_test_recon']] = y_pred_test\n",
    "\n",
    "df['pCO2_DIC_test'] = np.nan\n",
    "df.loc[test_sel,['pCO2_DIC_test']] = y_test\n",
    "\n",
    "        \n",
    "DS_recon = df[['net_mask','socat_mask','pCO2_DIC', 'pCO2_DIC_recon','pCO2','pCO2_recon','pCO2_T','pCO2_DIC_test','pCO2_DIC_test_recon','pCO2_test','pCO2_test_recon']].to_xarray()\n",
    "\n",
    "########## SAVE ####################################################################################################\n",
    "pre_SOCAT.save_recon(DS_recon, recon_output_dir, approach, run)   # Uncomment when actually running\n",
    "\n",
    "print(datetime.datetime.now())"
   ]
  },
  {
   "cell_type": "code",
   "execution_count": 41,
   "metadata": {},
   "outputs": [],
   "source": [
    "# Saving best parameters and performance metrics\n",
    "approach_output_dir = f\"{other_output_dir}/{approach}\"\n",
    "test_perform_fname = f\"{approach_output_dir}/{approach}_test_performance_run{run}_dict.pickle\"\n",
    "\n",
    "Path(approach_output_dir).mkdir(parents=True, exist_ok=True)\n",
    "\n",
    "###############################################################################\n",
    "if run==1: # Only write out best params for first model\n",
    "    param_fname = f\"{approach_output_dir}/{approach}_best_params_dict.pickle\"  # Keep same for all ensemble members\n",
    "    with open(param_fname, 'wb') as handle:\n",
    "        pickle.dump(best_params, handle, protocol=pickle.HIGHEST_PROTOCOL)\n",
    "################################################################################    \n",
    "    \n",
    "with open(test_perform_fname, 'wb') as handle:\n",
    "    pickle.dump(pco2_performance, handle)    # pco2 statistics, as opposed to pCO2-Residual statistics\n",
    "    \n",
    "# Convert performance metrics to dataframes\n",
    "test_df = pd.DataFrame.from_dict(pco2_performance,orient='index')\n",
    "\n",
    "# Save the dataframes too\n",
    "test_df_fname = f\"{approach_output_dir}/{approach}_test_performance_run{run}_df.pickle\"\n",
    "\n",
    "test_df.to_pickle(test_df_fname)"
   ]
  },
  {
   "cell_type": "code",
   "execution_count": 42,
   "metadata": {},
   "outputs": [
    {
     "data": {
      "text/plain": [
       "Text(0.5,0,'XGBoost dpco2 Feature Importance')"
      ]
     },
     "execution_count": 42,
     "metadata": {},
     "output_type": "execute_result"
    },
    {
     "data": {
      "image/jpeg": "[encoded data removed]",
      "text/plain": [
       "<Figure size 216x216 with 1 Axes>"
      ]
     },
     "metadata": {
      "needs_background": "light"
     },
     "output_type": "display_data"
    }
   ],
   "source": [
    "fig = plt.figure(figsize=(3,3))\n",
    "plt.barh(features_sel, model.feature_importances_)\n",
    "plt.xlabel(\"XGBoost dpco2 Feature Importance\")"
   ]
  },
  {
   "cell_type": "code",
   "execution_count": null,
   "metadata": {},
   "outputs": [],
   "source": []
  }
 ],
 "metadata": {
  "kernelspec": {
   "display_name": "EOF Test2",
   "language": "python",
   "name": "dev2"
  },
  "language_info": {
   "codemirror_mode": {
    "name": "ipython",
    "version": 3
   },
   "file_extension": ".py",
   "mimetype": "text/x-python",
   "name": "python",
   "nbconvert_exporter": "python",
   "pygments_lexer": "ipython3",
   "version": "3.6.7"
  }
 },
 "nbformat": 4,
 "nbformat_minor": 4
}
